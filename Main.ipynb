{
 "cells": [
  {
   "cell_type": "code",
   "execution_count": 1,
   "metadata": {},
   "outputs": [],
   "source": [
    "import math\n",
    "import pandas as pd\n",
    "import numpy as np\n",
    "import seaborn as sns\n",
    "import matplotlib as mpl\n",
    "import matplotlib.pyplot as plt\n",
    "\n",
    "from Helper_Functions import *\n",
    "from sku_fixer_setup import *"
   ]
  },
  {
   "cell_type": "markdown",
   "metadata": {},
   "source": [
    "#### Creating a Master SKU list and Corrected SKU Dictionary"
   ]
  },
  {
   "cell_type": "code",
   "execution_count": 2,
   "metadata": {},
   "outputs": [],
   "source": [
    "master_sku_list = make_master_sku_list()\n",
    "corrected_sku_dict = make_corrected_sku_dict()"
   ]
  },
  {
   "cell_type": "markdown",
   "metadata": {},
   "source": [
    "#### Predict SKUs"
   ]
  },
  {
   "cell_type": "code",
   "execution_count": 3,
   "metadata": {},
   "outputs": [
    {
     "name": "stdout",
     "output_type": "stream",
     "text": [
      "There were 0 predictions made. Below are the first (or fewer...if any). They are saved in data/Messed Up SKUS 2022 Predicted.csv\n",
      "Please check each of these and add them to the corrected skus file to make this program more accurate.\n"
     ]
    }
   ],
   "source": [
    "# Prediction Function (used to predict skus)\n",
    "sku_dict = corrected_sku_dict | {sku: sku for sku in master_sku_list}\n",
    "def prediction_function(sku):\n",
    "    closest_key = find_closest_sku(sku, list(sku_dict.keys()))\n",
    "    return sku_dict[closest_key]\n",
    "\n",
    "\n",
    "# Predict the new skus. \n",
    "## Creat Prediction Column\n",
    "mu_df = predict_skus(prediction_function)\n",
    "\n",
    "\n",
    "save_highlighted_predictions_file(mu_df, master_sku_list, corrected_sku_dict)\n",
    "save_new_predictions(mu_df, \"SKU\", \"Predicted SKU\", master_sku_list, corrected_sku_dict)"
   ]
  },
  {
   "cell_type": "markdown",
   "metadata": {},
   "source": [
    "#### With the previous steps completed, you should have an Excel file that ends in \"Fixed\" with the predictions highlighted. You should also have a csv file that ends in \"Predicted\" that has just the bad skus and their predictions. \n",
    "\n",
    "#### If these are all verified to be correct fixes, then copy/paste those rows back into your SKUS LIST WITH CORRECTIONS file and they'll be know corrections for future iterations of this program. \n",
    "\n",
    "#### In fact, if you fix these and run the program again, you'll have 100% of your skus fixed! "
   ]
  }
 ],
 "metadata": {
  "kernelspec": {
   "display_name": "Python 3",
   "language": "python",
   "name": "python3"
  },
  "language_info": {
   "codemirror_mode": {
    "name": "ipython",
    "version": 3
   },
   "file_extension": ".py",
   "mimetype": "text/x-python",
   "name": "python",
   "nbconvert_exporter": "python",
   "pygments_lexer": "ipython3",
   "version": "3.10.1"
  },
  "orig_nbformat": 4
 },
 "nbformat": 4,
 "nbformat_minor": 2
}
